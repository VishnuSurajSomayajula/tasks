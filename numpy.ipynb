{
 "cells": [
  {
   "cell_type": "code",
   "execution_count": 11,
   "id": "360816e4",
   "metadata": {},
   "outputs": [],
   "source": [
    "import numpy as np"
   ]
  },
  {
   "cell_type": "code",
   "execution_count": 12,
   "id": "22e4c241",
   "metadata": {},
   "outputs": [
    {
     "name": "stdout",
     "output_type": "stream",
     "text": [
      "[[6012    1]\n",
      " [7079    2]\n",
      " [6886    3]\n",
      " [7230    4]\n",
      " [4598    5]\n",
      " [5564    6]\n",
      " [6971    7]\n",
      " [7763    8]\n",
      " [8032    9]\n",
      " [9569   10]]\n"
     ]
    }
   ],
   "source": [
    "#problem 1- to store {steps before 7pm along with days} -[steps,daynumber]\n",
    "steps_walked = np. array([[6012, 1], [7079, 2], [6886, 3], [7230, 4], [4598, 5], [5564, 6], [6971, 7], [7763, 8], [8032, 9], [9569, 10]])\n",
    "print(steps_walked)"
   ]
  },
  {
   "cell_type": "code",
   "execution_count": 40,
   "id": "6b907f22",
   "metadata": {},
   "outputs": [
    {
     "name": "stdout",
     "output_type": "stream",
     "text": [
      "[ 8012  9079  8886  9230  6598  7564  8971  9763 10032 11569]\n"
     ]
    }
   ],
   "source": [
    "#problem 2 -[as battery dies at 7, he walks on an average of 2000 steps after 7, so we add 2000 steps to the existing one]\n",
    "new_steps = steps_walked[:,0] + np.array([2000])\n",
    "print(new_steps)\n"
   ]
  },
  {
   "cell_type": "code",
   "execution_count": 41,
   "id": "b91fe28a",
   "metadata": {},
   "outputs": [
    {
     "name": "stdout",
     "output_type": "stream",
     "text": [
      "[ 9079  9230  9763 10032 11569]\n"
     ]
    }
   ],
   "source": [
    "#problem 3 - to consider the index of the steps above 9000 steps after adding 2000 and storing in limit index\n",
    "limit_index = np.where(new_steps > 9000)\n",
    "print(new_steps[limit_index])"
   ]
  },
  {
   "cell_type": "code",
   "execution_count": 42,
   "id": "e7e3c7df",
   "metadata": {},
   "outputs": [
    {
     "name": "stdout",
     "output_type": "stream",
     "text": [
      "[ 9079  9230  9763 10032 11569]\n"
     ]
    }
   ],
   "source": [
    "#problem 4 - printing the elements in an order\n",
    "print(np.sort(new_steps[limit_index]))"
   ]
  },
  {
   "cell_type": "code",
   "execution_count": null,
   "id": "94c8467b",
   "metadata": {},
   "outputs": [],
   "source": []
  },
  {
   "cell_type": "code",
   "execution_count": null,
   "id": "479e40dc",
   "metadata": {},
   "outputs": [],
   "source": []
  }
 ],
 "metadata": {
  "kernelspec": {
   "display_name": "Python 3 (ipykernel)",
   "language": "python",
   "name": "python3"
  },
  "language_info": {
   "codemirror_mode": {
    "name": "ipython",
    "version": 3
   },
   "file_extension": ".py",
   "mimetype": "text/x-python",
   "name": "python",
   "nbconvert_exporter": "python",
   "pygments_lexer": "ipython3",
   "version": "3.9.7"
  }
 },
 "nbformat": 4,
 "nbformat_minor": 5
}
