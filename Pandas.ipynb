{
 "cells": [
  {
   "cell_type": "code",
   "execution_count": null,
   "id": "446e04c6",
   "metadata": {},
   "outputs": [],
   "source": [
    "'''\n",
    "What is Pandas?\n",
    "Pandas is a Python library used for working with data sets\n",
    "\n",
    "It has functions for analysing,cleanig,exploring, and manipulating data\n",
    "\n",
    "Why use Pandas?\n",
    "Pandas allows us to analyze big data and make conclusions based on statistical theories\n",
    "\n",
    "Pandas can clean messy data sets, and make them readable and relevant.\n",
    "\n",
    "Relevant data is very important in Data Science\n",
    "\n",
    "Pandas: Powerful for data analysis\n",
    "\n",
    "Pandas stands for \"Python Data Analysis Library\"\n",
    "\n",
    "One of the most prefered and widely tools in Data Imaging/ Wrangling\n",
    "\n",
    "Data Wrangling also called data cleaning, data remediation, or data munging - refers to a variety of process designed to transform \n",
    "raw data into more readily used formats\n",
    "\n",
    "The major outcomes of Pandas are;\n",
    "\n",
    "               1) Analysis of Data\n",
    "               2) Preparation of Data\n",
    "               3) Data Manipulation\n",
    "               4) Data Modeling \n",
    "               5) Data Analysis\n",
    "               \n",
    "\n",
    "\n",
    "'''\n",
    "\n"
   ]
  },
  {
   "cell_type": "code",
   "execution_count": null,
   "id": "6139483d",
   "metadata": {},
   "outputs": [],
   "source": [
    "!pip install pandas\n",
    "import pandas as pd\n",
    "import numpy as np"
   ]
  },
  {
   "cell_type": "markdown",
   "id": "06becf4e",
   "metadata": {},
   "source": [
    "<img src=\"https://indhumathychelliahcom.files.wordpress.com/2020/09/e1abc-1cuhnqwnicnwipgkzqo91bg.png\">"
   ]
  },
  {
   "cell_type": "code",
   "execution_count": null,
   "id": "8aa48ee5",
   "metadata": {},
   "outputs": [],
   "source": [
    "'''\n",
    "What is Series?\n",
    "A Pandas Series is like a column in a table\n",
    "\n",
    "It is a one-dimensional array holding data of any type\n",
    "'''\n",
    "s1 = pd.Series([23,24,25,'12',32])\n",
    "s1"
   ]
  },
  {
   "cell_type": "code",
   "execution_count": null,
   "id": "ff91b20c",
   "metadata": {},
   "outputs": [],
   "source": [
    "# We can also give our own index names instead of default index numbers 0,1,2,3,4 etc\n",
    "s2 = pd.Series([23,45,67,12,34],index = ['a','b','c','d','e'])\n",
    "s2"
   ]
  },
  {
   "cell_type": "code",
   "execution_count": null,
   "id": "8960f54c",
   "metadata": {},
   "outputs": [],
   "source": [
    "# To change datatype of data inside Series\n",
    "s3 = pd.Series([23,45,67,12,34],index = ['a','b','c','d','e'], dtype = 'float')\n",
    "s3"
   ]
  },
  {
   "cell_type": "code",
   "execution_count": null,
   "id": "220fff02",
   "metadata": {},
   "outputs": [],
   "source": [
    "'''\n",
    "Labels\n",
    "If nothing else is specified, the values are labled with their index number. First value has index 0, second value has index 1\n",
    "\n",
    "The label can be used to access a specified value\n",
    "'''\n",
    "s3['a']"
   ]
  },
  {
   "cell_type": "markdown",
   "id": "65a8d882",
   "metadata": {},
   "source": [
    "## Creation of Series using dictionary"
   ]
  },
  {
   "cell_type": "code",
   "execution_count": null,
   "id": "d63ee15d",
   "metadata": {},
   "outputs": [],
   "source": [
    "s4 = pd.Series({'a':65,'b':43,'c':45}) # keys will become index and values become data\n",
    "s4"
   ]
  },
  {
   "cell_type": "markdown",
   "id": "3a7f8750",
   "metadata": {},
   "source": [
    "## DataFrame"
   ]
  },
  {
   "cell_type": "markdown",
   "id": "22c13f4f",
   "metadata": {},
   "source": [
    "what is a DataFrame?A pandas datframe is a 2 dimensional data structure like 2 dimesnional array or a table with rows and columns"
   ]
  },
  {
   "cell_type": "markdown",
   "id": "be046b28",
   "metadata": {},
   "source": [
    "<img src=\"https://storage.googleapis.com/lds-media/images/series-and-dataframe.width-1200.png\">"
   ]
  },
  {
   "cell_type": "code",
   "execution_count": 36,
   "id": "7e7d5f06",
   "metadata": {},
   "outputs": [
    {
     "data": {
      "text/html": [
       "<div><div id=da3a3fcf-49a6-4126-a05e-03f27836d330 style=\"display:none; background-color:#9D6CFF; color:white; width:200px; height:30px; padding-left:5px; border-radius:4px; flex-direction:row; justify-content:space-around; align-items:center;\" onmouseover=\"this.style.backgroundColor='#BA9BF8'\" onmouseout=\"this.style.backgroundColor='#9D6CFF'\" onclick=\"window.commands?.execute('create-mitosheet-from-dataframe-output');\">See Full Dataframe in Mito</div> <script> if (window.commands.hasCommand('create-mitosheet-from-dataframe-output')) document.getElementById('da3a3fcf-49a6-4126-a05e-03f27836d330').style.display = 'flex' </script> <table border=\"1\" class=\"dataframe\">\n",
       "  <thead>\n",
       "    <tr style=\"text-align: right;\">\n",
       "      <th></th>\n",
       "      <th>0</th>\n",
       "    </tr>\n",
       "  </thead>\n",
       "  <tbody>\n",
       "    <tr>\n",
       "      <th>0</th>\n",
       "      <td>45</td>\n",
       "    </tr>\n",
       "    <tr>\n",
       "      <th>1</th>\n",
       "      <td>56</td>\n",
       "    </tr>\n",
       "    <tr>\n",
       "      <th>2</th>\n",
       "      <td>65</td>\n",
       "    </tr>\n",
       "    <tr>\n",
       "      <th>3</th>\n",
       "      <td>76</td>\n",
       "    </tr>\n",
       "  </tbody>\n",
       "</table></div>"
      ],
      "text/plain": [
       "    0\n",
       "0  45\n",
       "1  56\n",
       "2  65\n",
       "3  76"
      ]
     },
     "execution_count": 36,
     "metadata": {},
     "output_type": "execute_result"
    }
   ],
   "source": [
    "# DataFrame is 2D and has rows and columns where rows and column index are taken as 0,1,2 etc by default\n",
    "d1 = pd.DataFrame([45,56,65,76])\n",
    "d1"
   ]
  },
  {
   "cell_type": "code",
   "execution_count": 37,
   "id": "6d624d42",
   "metadata": {},
   "outputs": [
    {
     "data": {
      "text/html": [
       "<div><div id=9805d519-7356-4e99-95de-28d4c6c3b92c style=\"display:none; background-color:#9D6CFF; color:white; width:200px; height:30px; padding-left:5px; border-radius:4px; flex-direction:row; justify-content:space-around; align-items:center;\" onmouseover=\"this.style.backgroundColor='#BA9BF8'\" onmouseout=\"this.style.backgroundColor='#9D6CFF'\" onclick=\"window.commands?.execute('create-mitosheet-from-dataframe-output');\">See Full Dataframe in Mito</div> <script> if (window.commands.hasCommand('create-mitosheet-from-dataframe-output')) document.getElementById('9805d519-7356-4e99-95de-28d4c6c3b92c').style.display = 'flex' </script> <table border=\"1\" class=\"dataframe\">\n",
       "  <thead>\n",
       "    <tr style=\"text-align: right;\">\n",
       "      <th></th>\n",
       "      <th>0</th>\n",
       "      <th>1</th>\n",
       "      <th>2</th>\n",
       "    </tr>\n",
       "  </thead>\n",
       "  <tbody>\n",
       "    <tr>\n",
       "      <th>0</th>\n",
       "      <td>2</td>\n",
       "      <td>3</td>\n",
       "      <td>4</td>\n",
       "    </tr>\n",
       "    <tr>\n",
       "      <th>1</th>\n",
       "      <td>4</td>\n",
       "      <td>5</td>\n",
       "      <td>6</td>\n",
       "    </tr>\n",
       "    <tr>\n",
       "      <th>2</th>\n",
       "      <td>1</td>\n",
       "      <td>2</td>\n",
       "      <td>3</td>\n",
       "    </tr>\n",
       "  </tbody>\n",
       "</table></div>"
      ],
      "text/plain": [
       "   0  1  2\n",
       "0  2  3  4\n",
       "1  4  5  6\n",
       "2  1  2  3"
      ]
     },
     "execution_count": 37,
     "metadata": {},
     "output_type": "execute_result"
    }
   ],
   "source": [
    "# Creating Datarame with list of lists with Default index and column names\n",
    "d2 = pd.DataFrame([[2,3,4],[4,5,6],[1,2,3]])\n",
    "d2"
   ]
  },
  {
   "cell_type": "code",
   "execution_count": null,
   "id": "f60a2135",
   "metadata": {},
   "outputs": [],
   "source": [
    "# S2 is series dataset with no column and only rows\n",
    "s2"
   ]
  },
  {
   "cell_type": "code",
   "execution_count": 40,
   "id": "68045dc0",
   "metadata": {},
   "outputs": [
    {
     "data": {
      "text/html": [
       "<div><div id=6f367ed5-3bbd-4d32-bb85-d8d84c9792a0 style=\"display:none; background-color:#9D6CFF; color:white; width:200px; height:30px; padding-left:5px; border-radius:4px; flex-direction:row; justify-content:space-around; align-items:center;\" onmouseover=\"this.style.backgroundColor='#BA9BF8'\" onmouseout=\"this.style.backgroundColor='#9D6CFF'\" onclick=\"window.commands?.execute('create-mitosheet-from-dataframe-output');\">See Full Dataframe in Mito</div> <script> if (window.commands.hasCommand('create-mitosheet-from-dataframe-output')) document.getElementById('6f367ed5-3bbd-4d32-bb85-d8d84c9792a0').style.display = 'flex' </script> <table border=\"1\" class=\"dataframe\">\n",
       "  <thead>\n",
       "    <tr style=\"text-align: right;\">\n",
       "      <th></th>\n",
       "      <th>0</th>\n",
       "    </tr>\n",
       "  </thead>\n",
       "  <tbody>\n",
       "    <tr>\n",
       "      <th>a</th>\n",
       "      <td>23</td>\n",
       "    </tr>\n",
       "    <tr>\n",
       "      <th>b</th>\n",
       "      <td>45</td>\n",
       "    </tr>\n",
       "    <tr>\n",
       "      <th>c</th>\n",
       "      <td>67</td>\n",
       "    </tr>\n",
       "    <tr>\n",
       "      <th>d</th>\n",
       "      <td>12</td>\n",
       "    </tr>\n",
       "    <tr>\n",
       "      <th>e</th>\n",
       "      <td>34</td>\n",
       "    </tr>\n",
       "  </tbody>\n",
       "</table></div>"
      ],
      "text/plain": [
       "    0\n",
       "a  23\n",
       "b  45\n",
       "c  67\n",
       "d  12\n",
       "e  34"
      ]
     },
     "execution_count": 40,
     "metadata": {},
     "output_type": "execute_result"
    }
   ],
   "source": [
    "# Converting series into DataFrame. Only column gets added\n",
    "d2 = pd.DataFrame(s2)\n",
    "d2"
   ]
  },
  {
   "cell_type": "code",
   "execution_count": 42,
   "id": "04525ae0",
   "metadata": {},
   "outputs": [
    {
     "data": {
      "text/html": [
       "<div><div id=fd962a27-232b-437c-82f9-47f42668faa4 style=\"display:none; background-color:#9D6CFF; color:white; width:200px; height:30px; padding-left:5px; border-radius:4px; flex-direction:row; justify-content:space-around; align-items:center;\" onmouseover=\"this.style.backgroundColor='#BA9BF8'\" onmouseout=\"this.style.backgroundColor='#9D6CFF'\" onclick=\"window.commands?.execute('create-mitosheet-from-dataframe-output');\">See Full Dataframe in Mito</div> <script> if (window.commands.hasCommand('create-mitosheet-from-dataframe-output')) document.getElementById('fd962a27-232b-437c-82f9-47f42668faa4').style.display = 'flex' </script> <table border=\"1\" class=\"dataframe\">\n",
       "  <thead>\n",
       "    <tr style=\"text-align: right;\">\n",
       "      <th></th>\n",
       "      <th>a</th>\n",
       "      <th>b</th>\n",
       "      <th>c</th>\n",
       "    </tr>\n",
       "  </thead>\n",
       "  <tbody>\n",
       "    <tr>\n",
       "      <th>0</th>\n",
       "      <td>2</td>\n",
       "      <td>3</td>\n",
       "      <td>4</td>\n",
       "    </tr>\n",
       "    <tr>\n",
       "      <th>1</th>\n",
       "      <td>4</td>\n",
       "      <td>5</td>\n",
       "      <td>6</td>\n",
       "    </tr>\n",
       "    <tr>\n",
       "      <th>2</th>\n",
       "      <td>1</td>\n",
       "      <td>2</td>\n",
       "      <td>3</td>\n",
       "    </tr>\n",
       "  </tbody>\n",
       "</table></div>"
      ],
      "text/plain": [
       "   a  b  c\n",
       "0  2  3  4\n",
       "1  4  5  6\n",
       "2  1  2  3"
      ]
     },
     "execution_count": 42,
     "metadata": {},
     "output_type": "execute_result"
    }
   ],
   "source": [
    "# Creating datframe by specifying column names\n",
    "d3 = pd.DataFrame([[2,3,4],[4,5,6],[1,2,3]], columns = ['a','b','c'])\n",
    "d3"
   ]
  },
  {
   "cell_type": "code",
   "execution_count": 44,
   "id": "90726c01",
   "metadata": {},
   "outputs": [
    {
     "data": {
      "text/html": [
       "<div><div id=ee59b132-cf03-4b12-8e10-e7922852e500 style=\"display:none; background-color:#9D6CFF; color:white; width:200px; height:30px; padding-left:5px; border-radius:4px; flex-direction:row; justify-content:space-around; align-items:center;\" onmouseover=\"this.style.backgroundColor='#BA9BF8'\" onmouseout=\"this.style.backgroundColor='#9D6CFF'\" onclick=\"window.commands?.execute('create-mitosheet-from-dataframe-output');\">See Full Dataframe in Mito</div> <script> if (window.commands.hasCommand('create-mitosheet-from-dataframe-output')) document.getElementById('ee59b132-cf03-4b12-8e10-e7922852e500').style.display = 'flex' </script> <table border=\"1\" class=\"dataframe\">\n",
       "  <thead>\n",
       "    <tr style=\"text-align: right;\">\n",
       "      <th></th>\n",
       "      <th>a</th>\n",
       "      <th>b</th>\n",
       "      <th>c</th>\n",
       "    </tr>\n",
       "  </thead>\n",
       "  <tbody>\n",
       "    <tr>\n",
       "      <th>x</th>\n",
       "      <td>2</td>\n",
       "      <td>3</td>\n",
       "      <td>4</td>\n",
       "    </tr>\n",
       "    <tr>\n",
       "      <th>y</th>\n",
       "      <td>4</td>\n",
       "      <td>5</td>\n",
       "      <td>6</td>\n",
       "    </tr>\n",
       "    <tr>\n",
       "      <th>z</th>\n",
       "      <td>1</td>\n",
       "      <td>2</td>\n",
       "      <td>3</td>\n",
       "    </tr>\n",
       "  </tbody>\n",
       "</table></div>"
      ],
      "text/plain": [
       "   a  b  c\n",
       "x  2  3  4\n",
       "y  4  5  6\n",
       "z  1  2  3"
      ]
     },
     "execution_count": 44,
     "metadata": {},
     "output_type": "execute_result"
    }
   ],
   "source": [
    "# Creating datframe by specifying both column amd rows index names\n",
    "d3 = pd.DataFrame([[2,3,4],[4,5,6],[1,2,3]], columns = ['a','b','c'], index = ['x','y','z'])\n",
    "d3"
   ]
  },
  {
   "cell_type": "markdown",
   "id": "737c1ccd",
   "metadata": {},
   "source": [
    "## Creating DataFrame from list of dictionaries\n"
   ]
  },
  {
   "cell_type": "code",
   "execution_count": 45,
   "id": "c6659db3",
   "metadata": {},
   "outputs": [
    {
     "data": {
      "text/html": [
       "<div><div id=22307add-efa4-4ec6-a939-ec70d9a96ded style=\"display:none; background-color:#9D6CFF; color:white; width:200px; height:30px; padding-left:5px; border-radius:4px; flex-direction:row; justify-content:space-around; align-items:center;\" onmouseover=\"this.style.backgroundColor='#BA9BF8'\" onmouseout=\"this.style.backgroundColor='#9D6CFF'\" onclick=\"window.commands?.execute('create-mitosheet-from-dataframe-output');\">See Full Dataframe in Mito</div> <script> if (window.commands.hasCommand('create-mitosheet-from-dataframe-output')) document.getElementById('22307add-efa4-4ec6-a939-ec70d9a96ded').style.display = 'flex' </script> <table border=\"1\" class=\"dataframe\">\n",
       "  <thead>\n",
       "    <tr style=\"text-align: right;\">\n",
       "      <th></th>\n",
       "      <th>alex</th>\n",
       "      <th>joe</th>\n",
       "      <th>ema</th>\n",
       "      <th>dora</th>\n",
       "      <th>alice</th>\n",
       "    </tr>\n",
       "  </thead>\n",
       "  <tbody>\n",
       "    <tr>\n",
       "      <th>a</th>\n",
       "      <td>1.0</td>\n",
       "      <td>2.0</td>\n",
       "      <td>NaN</td>\n",
       "      <td>NaN</td>\n",
       "      <td>NaN</td>\n",
       "    </tr>\n",
       "    <tr>\n",
       "      <th>b</th>\n",
       "      <td>NaN</td>\n",
       "      <td>NaN</td>\n",
       "      <td>5.0</td>\n",
       "      <td>10.0</td>\n",
       "      <td>20.0</td>\n",
       "    </tr>\n",
       "  </tbody>\n",
       "</table></div>"
      ],
      "text/plain": [
       "   alex  joe  ema  dora  alice\n",
       "a   1.0  2.0  NaN   NaN    NaN\n",
       "b   NaN  NaN  5.0  10.0   20.0"
      ]
     },
     "execution_count": 45,
     "metadata": {},
     "output_type": "execute_result"
    }
   ],
   "source": [
    "# In dataframe key is considered as column index.\n",
    "# NAN means Null values\n",
    "dic = [{'alexa':1,'joe':2},{'emma':5,'dora':10,'alice':20}]\n",
    "pd.DataFrame(dic,index=['a','b'])"
   ]
  },
  {
   "cell_type": "markdown",
   "id": "be6eb6c2",
   "metadata": {},
   "source": [
    "## DataFrame Operations"
   ]
  },
  {
   "cell_type": "code",
   "execution_count": 66,
   "id": "473729ff",
   "metadata": {},
   "outputs": [
    {
     "data": {
      "text/html": [
       "<div><div id=96849943-9eb9-4f49-b3f8-65615c6cb0ff style=\"display:none; background-color:#9D6CFF; color:white; width:200px; height:30px; padding-left:5px; border-radius:4px; flex-direction:row; justify-content:space-around; align-items:center;\" onmouseover=\"this.style.backgroundColor='#BA9BF8'\" onmouseout=\"this.style.backgroundColor='#9D6CFF'\" onclick=\"window.commands?.execute('create-mitosheet-from-dataframe-output');\">See Full Dataframe in Mito</div> <script> if (window.commands.hasCommand('create-mitosheet-from-dataframe-output')) document.getElementById('96849943-9eb9-4f49-b3f8-65615c6cb0ff').style.display = 'flex' </script> <table border=\"1\" class=\"dataframe\">\n",
       "  <thead>\n",
       "    <tr style=\"text-align: right;\">\n",
       "      <th></th>\n",
       "      <th>a</th>\n",
       "      <th>c</th>\n",
       "      <th>e</th>\n",
       "    </tr>\n",
       "  </thead>\n",
       "  <tbody>\n",
       "    <tr>\n",
       "      <th>x</th>\n",
       "      <td>2</td>\n",
       "      <td>4</td>\n",
       "      <td>8</td>\n",
       "    </tr>\n",
       "    <tr>\n",
       "      <th>y</th>\n",
       "      <td>4</td>\n",
       "      <td>6</td>\n",
       "      <td>24</td>\n",
       "    </tr>\n",
       "    <tr>\n",
       "      <th>z</th>\n",
       "      <td>1</td>\n",
       "      <td>3</td>\n",
       "      <td>3</td>\n",
       "    </tr>\n",
       "  </tbody>\n",
       "</table></div>"
      ],
      "text/plain": [
       "   a  c   e\n",
       "x  2  4   8\n",
       "y  4  6  24\n",
       "z  1  3   3"
      ]
     },
     "execution_count": 66,
     "metadata": {},
     "output_type": "execute_result"
    }
   ],
   "source": [
    "d3"
   ]
  },
  {
   "cell_type": "code",
   "execution_count": null,
   "id": "1f2eb5c4",
   "metadata": {},
   "outputs": [],
   "source": [
    "# To check values in column a\n",
    "d3['a']"
   ]
  },
  {
   "cell_type": "code",
   "execution_count": null,
   "id": "282e8b48",
   "metadata": {},
   "outputs": [],
   "source": [
    "# Creating two new columns 'd' and 'e' in d3 \n",
    "d3['d'] = d3['a'] * d3['b']\n",
    "d3['e'] = d3['a'] + d3['d']\n",
    "d3"
   ]
  },
  {
   "cell_type": "code",
   "execution_count": null,
   "id": "53748049",
   "metadata": {},
   "outputs": [],
   "source": [
    "# Using pop function to remove column 'b'\n",
    "# Specific function like pop is used for only few operation\n",
    "pop = d3.pop('b')\n",
    "d3"
   ]
  },
  {
   "cell_type": "code",
   "execution_count": null,
   "id": "1a35ef86",
   "metadata": {},
   "outputs": [],
   "source": [
    "# Using built-in function del to remove column 'd'. \n",
    "# built-in function is used for all operations\n",
    "del d3['d']"
   ]
  },
  {
   "cell_type": "code",
   "execution_count": 71,
   "id": "8bab9f3c",
   "metadata": {},
   "outputs": [
    {
     "data": {
      "text/html": [
       "<div><div id=f19b585e-3906-430f-b7db-b96cc840a2e8 style=\"display:none; background-color:#9D6CFF; color:white; width:200px; height:30px; padding-left:5px; border-radius:4px; flex-direction:row; justify-content:space-around; align-items:center;\" onmouseover=\"this.style.backgroundColor='#BA9BF8'\" onmouseout=\"this.style.backgroundColor='#9D6CFF'\" onclick=\"window.commands?.execute('create-mitosheet-from-dataframe-output');\">See Full Dataframe in Mito</div> <script> if (window.commands.hasCommand('create-mitosheet-from-dataframe-output')) document.getElementById('f19b585e-3906-430f-b7db-b96cc840a2e8').style.display = 'flex' </script> <table border=\"1\" class=\"dataframe\">\n",
       "  <thead>\n",
       "    <tr style=\"text-align: right;\">\n",
       "      <th></th>\n",
       "      <th>a</th>\n",
       "      <th>c</th>\n",
       "      <th>e</th>\n",
       "    </tr>\n",
       "  </thead>\n",
       "  <tbody>\n",
       "    <tr>\n",
       "      <th>x</th>\n",
       "      <td>2</td>\n",
       "      <td>4</td>\n",
       "      <td>8</td>\n",
       "    </tr>\n",
       "    <tr>\n",
       "      <th>y</th>\n",
       "      <td>4</td>\n",
       "      <td>6</td>\n",
       "      <td>24</td>\n",
       "    </tr>\n",
       "    <tr>\n",
       "      <th>z</th>\n",
       "      <td>1</td>\n",
       "      <td>3</td>\n",
       "      <td>3</td>\n",
       "    </tr>\n",
       "  </tbody>\n",
       "</table></div>"
      ],
      "text/plain": [
       "   a  c   e\n",
       "x  2  4   8\n",
       "y  4  6  24\n",
       "z  1  3   3"
      ]
     },
     "execution_count": 71,
     "metadata": {},
     "output_type": "execute_result"
    }
   ],
   "source": [
    "d3"
   ]
  },
  {
   "cell_type": "code",
   "execution_count": null,
   "id": "9df0c08a",
   "metadata": {},
   "outputs": [],
   "source": [
    "d3.pop('a')\n",
    "d3"
   ]
  },
  {
   "cell_type": "code",
   "execution_count": 75,
   "id": "072fc72b",
   "metadata": {},
   "outputs": [
    {
     "data": {
      "text/html": [
       "<div><div id=41b141c4-70b7-43ec-b3ab-7054725c314a style=\"display:none; background-color:#9D6CFF; color:white; width:200px; height:30px; padding-left:5px; border-radius:4px; flex-direction:row; justify-content:space-around; align-items:center;\" onmouseover=\"this.style.backgroundColor='#BA9BF8'\" onmouseout=\"this.style.backgroundColor='#9D6CFF'\" onclick=\"window.commands?.execute('create-mitosheet-from-dataframe-output');\">See Full Dataframe in Mito</div> <script> if (window.commands.hasCommand('create-mitosheet-from-dataframe-output')) document.getElementById('41b141c4-70b7-43ec-b3ab-7054725c314a').style.display = 'flex' </script> <table border=\"1\" class=\"dataframe\">\n",
       "  <thead>\n",
       "    <tr style=\"text-align: right;\">\n",
       "      <th></th>\n",
       "      <th>c</th>\n",
       "      <th>e</th>\n",
       "    </tr>\n",
       "  </thead>\n",
       "  <tbody>\n",
       "    <tr>\n",
       "      <th>x</th>\n",
       "      <td>4</td>\n",
       "      <td>8</td>\n",
       "    </tr>\n",
       "    <tr>\n",
       "      <th>y</th>\n",
       "      <td>6</td>\n",
       "      <td>24</td>\n",
       "    </tr>\n",
       "    <tr>\n",
       "      <th>z</th>\n",
       "      <td>3</td>\n",
       "      <td>3</td>\n",
       "    </tr>\n",
       "  </tbody>\n",
       "</table></div>"
      ],
      "text/plain": [
       "   c   e\n",
       "x  4   8\n",
       "y  6  24\n",
       "z  3   3"
      ]
     },
     "execution_count": 75,
     "metadata": {},
     "output_type": "execute_result"
    }
   ],
   "source": [
    "d3"
   ]
  },
  {
   "cell_type": "code",
   "execution_count": null,
   "id": "ec38e77f",
   "metadata": {},
   "outputs": [],
   "source": [
    "# insert function is used to add column\n",
    "# Below 1 is location,'new1'is column name and d3['c'] is data to be added in column\n",
    "d3.insert(1,'new1',d3['c'])\n",
    "d3"
   ]
  },
  {
   "cell_type": "code",
   "execution_count": 79,
   "id": "ecc4819b",
   "metadata": {},
   "outputs": [
    {
     "data": {
      "text/html": [
       "<div><div id=7ba429be-0a0a-4d14-b8d1-3ad8d193ee2f style=\"display:none; background-color:#9D6CFF; color:white; width:200px; height:30px; padding-left:5px; border-radius:4px; flex-direction:row; justify-content:space-around; align-items:center;\" onmouseover=\"this.style.backgroundColor='#BA9BF8'\" onmouseout=\"this.style.backgroundColor='#9D6CFF'\" onclick=\"window.commands?.execute('create-mitosheet-from-dataframe-output');\">See Full Dataframe in Mito</div> <script> if (window.commands.hasCommand('create-mitosheet-from-dataframe-output')) document.getElementById('7ba429be-0a0a-4d14-b8d1-3ad8d193ee2f').style.display = 'flex' </script> <table border=\"1\" class=\"dataframe\">\n",
       "  <thead>\n",
       "    <tr style=\"text-align: right;\">\n",
       "      <th></th>\n",
       "      <th>c</th>\n",
       "      <th>new1</th>\n",
       "      <th>e</th>\n",
       "    </tr>\n",
       "  </thead>\n",
       "  <tbody>\n",
       "    <tr>\n",
       "      <th>x</th>\n",
       "      <td>4</td>\n",
       "      <td>4</td>\n",
       "      <td>8</td>\n",
       "    </tr>\n",
       "    <tr>\n",
       "      <th>y</th>\n",
       "      <td>6</td>\n",
       "      <td>6</td>\n",
       "      <td>24</td>\n",
       "    </tr>\n",
       "    <tr>\n",
       "      <th>z</th>\n",
       "      <td>3</td>\n",
       "      <td>3</td>\n",
       "      <td>3</td>\n",
       "    </tr>\n",
       "  </tbody>\n",
       "</table></div>"
      ],
      "text/plain": [
       "   c  new1   e\n",
       "x  4     4   8\n",
       "y  6     6  24\n",
       "z  3     3   3"
      ]
     },
     "execution_count": 79,
     "metadata": {},
     "output_type": "execute_result"
    }
   ],
   "source": [
    "d3"
   ]
  },
  {
   "cell_type": "code",
   "execution_count": null,
   "id": "16079764",
   "metadata": {},
   "outputs": [],
   "source": [
    "d3.insert(2,'new2',d3([1,2,3]))\n",
    "d3"
   ]
  },
  {
   "cell_type": "code",
   "execution_count": 94,
   "id": "5d83c9e7",
   "metadata": {},
   "outputs": [],
   "source": [
    "# Taking a random dataset\n",
    "d4 = pd.DataFrame({'abc':np.random.randint(2,6,size = (10)),'bcd':np.random.randint(3,8,size = (10)),'cde':np.random.randint(4,10,size = (10))})"
   ]
  },
  {
   "cell_type": "code",
   "execution_count": 95,
   "id": "223ebe36",
   "metadata": {},
   "outputs": [
    {
     "data": {
      "text/html": [
       "<div><div id=1c03d402-1acf-488d-8229-4c80d744ab03 style=\"display:none; background-color:#9D6CFF; color:white; width:200px; height:30px; padding-left:5px; border-radius:4px; flex-direction:row; justify-content:space-around; align-items:center;\" onmouseover=\"this.style.backgroundColor='#BA9BF8'\" onmouseout=\"this.style.backgroundColor='#9D6CFF'\" onclick=\"window.commands?.execute('create-mitosheet-from-dataframe-output');\">See Full Dataframe in Mito</div> <script> if (window.commands.hasCommand('create-mitosheet-from-dataframe-output')) document.getElementById('1c03d402-1acf-488d-8229-4c80d744ab03').style.display = 'flex' </script> <table border=\"1\" class=\"dataframe\">\n",
       "  <thead>\n",
       "    <tr style=\"text-align: right;\">\n",
       "      <th></th>\n",
       "      <th>abc</th>\n",
       "      <th>bcd</th>\n",
       "      <th>cde</th>\n",
       "    </tr>\n",
       "  </thead>\n",
       "  <tbody>\n",
       "    <tr>\n",
       "      <th>0</th>\n",
       "      <td>2</td>\n",
       "      <td>6</td>\n",
       "      <td>5</td>\n",
       "    </tr>\n",
       "    <tr>\n",
       "      <th>1</th>\n",
       "      <td>2</td>\n",
       "      <td>5</td>\n",
       "      <td>5</td>\n",
       "    </tr>\n",
       "    <tr>\n",
       "      <th>2</th>\n",
       "      <td>2</td>\n",
       "      <td>7</td>\n",
       "      <td>8</td>\n",
       "    </tr>\n",
       "    <tr>\n",
       "      <th>3</th>\n",
       "      <td>2</td>\n",
       "      <td>6</td>\n",
       "      <td>7</td>\n",
       "    </tr>\n",
       "    <tr>\n",
       "      <th>4</th>\n",
       "      <td>5</td>\n",
       "      <td>5</td>\n",
       "      <td>6</td>\n",
       "    </tr>\n",
       "    <tr>\n",
       "      <th>5</th>\n",
       "      <td>3</td>\n",
       "      <td>6</td>\n",
       "      <td>4</td>\n",
       "    </tr>\n",
       "    <tr>\n",
       "      <th>6</th>\n",
       "      <td>4</td>\n",
       "      <td>6</td>\n",
       "      <td>4</td>\n",
       "    </tr>\n",
       "    <tr>\n",
       "      <th>7</th>\n",
       "      <td>3</td>\n",
       "      <td>5</td>\n",
       "      <td>6</td>\n",
       "    </tr>\n",
       "    <tr>\n",
       "      <th>8</th>\n",
       "      <td>4</td>\n",
       "      <td>4</td>\n",
       "      <td>6</td>\n",
       "    </tr>\n",
       "    <tr>\n",
       "      <th>9</th>\n",
       "      <td>4</td>\n",
       "      <td>5</td>\n",
       "      <td>7</td>\n",
       "    </tr>\n",
       "  </tbody>\n",
       "</table></div>"
      ],
      "text/plain": [
       "   abc  bcd  cde\n",
       "0    2    6    5\n",
       "1    2    5    5\n",
       "2    2    7    8\n",
       "3    2    6    7\n",
       "4    5    5    6\n",
       "5    3    6    4\n",
       "6    4    6    4\n",
       "7    3    5    6\n",
       "8    4    4    6\n",
       "9    4    5    7"
      ]
     },
     "execution_count": 95,
     "metadata": {},
     "output_type": "execute_result"
    }
   ],
   "source": [
    "d4"
   ]
  },
  {
   "cell_type": "code",
   "execution_count": 97,
   "id": "8f7de5cb",
   "metadata": {},
   "outputs": [
    {
     "data": {
      "text/html": [
       "<div><div id=c602feb1-c293-47dd-9028-2df87ca5afe5 style=\"display:none; background-color:#9D6CFF; color:white; width:200px; height:30px; padding-left:5px; border-radius:4px; flex-direction:row; justify-content:space-around; align-items:center;\" onmouseover=\"this.style.backgroundColor='#BA9BF8'\" onmouseout=\"this.style.backgroundColor='#9D6CFF'\" onclick=\"window.commands?.execute('create-mitosheet-from-dataframe-output');\">See Full Dataframe in Mito</div> <script> if (window.commands.hasCommand('create-mitosheet-from-dataframe-output')) document.getElementById('c602feb1-c293-47dd-9028-2df87ca5afe5').style.display = 'flex' </script> <table border=\"1\" class=\"dataframe\">\n",
       "  <thead>\n",
       "    <tr style=\"text-align: right;\">\n",
       "      <th></th>\n",
       "      <th>abc</th>\n",
       "      <th>bcd</th>\n",
       "      <th>cde</th>\n",
       "    </tr>\n",
       "  </thead>\n",
       "  <tbody>\n",
       "    <tr>\n",
       "      <th>0</th>\n",
       "      <td>2</td>\n",
       "      <td>6</td>\n",
       "      <td>5</td>\n",
       "    </tr>\n",
       "    <tr>\n",
       "      <th>1</th>\n",
       "      <td>2</td>\n",
       "      <td>5</td>\n",
       "      <td>5</td>\n",
       "    </tr>\n",
       "    <tr>\n",
       "      <th>2</th>\n",
       "      <td>2</td>\n",
       "      <td>7</td>\n",
       "      <td>8</td>\n",
       "    </tr>\n",
       "    <tr>\n",
       "      <th>3</th>\n",
       "      <td>2</td>\n",
       "      <td>6</td>\n",
       "      <td>7</td>\n",
       "    </tr>\n",
       "    <tr>\n",
       "      <th>4</th>\n",
       "      <td>5</td>\n",
       "      <td>5</td>\n",
       "      <td>6</td>\n",
       "    </tr>\n",
       "  </tbody>\n",
       "</table></div>"
      ],
      "text/plain": [
       "   abc  bcd  cde\n",
       "0    2    6    5\n",
       "1    2    5    5\n",
       "2    2    7    8\n",
       "3    2    6    7\n",
       "4    5    5    6"
      ]
     },
     "execution_count": 97,
     "metadata": {},
     "output_type": "execute_result"
    }
   ],
   "source": [
    "# To see first 5 rows\n",
    "d4.head() # if we want more than 5 rows then head(10)"
   ]
  },
  {
   "cell_type": "code",
   "execution_count": 100,
   "id": "039d82f7",
   "metadata": {},
   "outputs": [
    {
     "data": {
      "text/html": [
       "<div><div id=0cfb49c7-9182-46ad-a6aa-9a879e4202f8 style=\"display:none; background-color:#9D6CFF; color:white; width:200px; height:30px; padding-left:5px; border-radius:4px; flex-direction:row; justify-content:space-around; align-items:center;\" onmouseover=\"this.style.backgroundColor='#BA9BF8'\" onmouseout=\"this.style.backgroundColor='#9D6CFF'\" onclick=\"window.commands?.execute('create-mitosheet-from-dataframe-output');\">See Full Dataframe in Mito</div> <script> if (window.commands.hasCommand('create-mitosheet-from-dataframe-output')) document.getElementById('0cfb49c7-9182-46ad-a6aa-9a879e4202f8').style.display = 'flex' </script> <table border=\"1\" class=\"dataframe\">\n",
       "  <thead>\n",
       "    <tr style=\"text-align: right;\">\n",
       "      <th></th>\n",
       "      <th>abc</th>\n",
       "      <th>bcd</th>\n",
       "      <th>cde</th>\n",
       "    </tr>\n",
       "  </thead>\n",
       "  <tbody>\n",
       "    <tr>\n",
       "      <th>5</th>\n",
       "      <td>3</td>\n",
       "      <td>6</td>\n",
       "      <td>4</td>\n",
       "    </tr>\n",
       "    <tr>\n",
       "      <th>6</th>\n",
       "      <td>4</td>\n",
       "      <td>6</td>\n",
       "      <td>4</td>\n",
       "    </tr>\n",
       "    <tr>\n",
       "      <th>7</th>\n",
       "      <td>3</td>\n",
       "      <td>5</td>\n",
       "      <td>6</td>\n",
       "    </tr>\n",
       "    <tr>\n",
       "      <th>8</th>\n",
       "      <td>4</td>\n",
       "      <td>4</td>\n",
       "      <td>6</td>\n",
       "    </tr>\n",
       "    <tr>\n",
       "      <th>9</th>\n",
       "      <td>4</td>\n",
       "      <td>5</td>\n",
       "      <td>7</td>\n",
       "    </tr>\n",
       "  </tbody>\n",
       "</table></div>"
      ],
      "text/plain": [
       "   abc  bcd  cde\n",
       "5    3    6    4\n",
       "6    4    6    4\n",
       "7    3    5    6\n",
       "8    4    4    6\n",
       "9    4    5    7"
      ]
     },
     "execution_count": 100,
     "metadata": {},
     "output_type": "execute_result"
    }
   ],
   "source": [
    "# To see last 5 rows\n",
    "d4.tail()"
   ]
  },
  {
   "cell_type": "code",
   "execution_count": null,
   "id": "eb89314a",
   "metadata": {},
   "outputs": [],
   "source": [
    "'''\n",
    "Info about the data.\n",
    "The DataFrame object has a method called ino(), that gives more information about th data\n",
    "'''\n",
    "d4.info()"
   ]
  },
  {
   "cell_type": "markdown",
   "id": "8cf0dff2",
   "metadata": {},
   "source": [
    "# To access specific data with in DataFrmae we use loc and iloc functions"
   ]
  },
  {
   "cell_type": "markdown",
   "id": "0ee2d6dc",
   "metadata": {},
   "source": [
    "## loc function in Panda\n",
    "* Data is retrieved based on rows and columns names\n",
    "* Syntax: loc[row name, col name]"
   ]
  },
  {
   "cell_type": "code",
   "execution_count": 113,
   "id": "994e90b6",
   "metadata": {},
   "outputs": [
    {
     "data": {
      "text/html": [
       "<div><div id=8e9bf75a-f76c-4338-bed1-ec3cf8b59234 style=\"display:none; background-color:#9D6CFF; color:white; width:200px; height:30px; padding-left:5px; border-radius:4px; flex-direction:row; justify-content:space-around; align-items:center;\" onmouseover=\"this.style.backgroundColor='#BA9BF8'\" onmouseout=\"this.style.backgroundColor='#9D6CFF'\" onclick=\"window.commands?.execute('create-mitosheet-from-dataframe-output');\">See Full Dataframe in Mito</div> <script> if (window.commands.hasCommand('create-mitosheet-from-dataframe-output')) document.getElementById('8e9bf75a-f76c-4338-bed1-ec3cf8b59234').style.display = 'flex' </script> <table border=\"1\" class=\"dataframe\">\n",
       "  <thead>\n",
       "    <tr style=\"text-align: right;\">\n",
       "      <th></th>\n",
       "      <th>abc</th>\n",
       "      <th>bcd</th>\n",
       "      <th>cde</th>\n",
       "    </tr>\n",
       "  </thead>\n",
       "  <tbody>\n",
       "    <tr>\n",
       "      <th>0</th>\n",
       "      <td>2</td>\n",
       "      <td>6</td>\n",
       "      <td>5</td>\n",
       "    </tr>\n",
       "    <tr>\n",
       "      <th>1</th>\n",
       "      <td>2</td>\n",
       "      <td>5</td>\n",
       "      <td>5</td>\n",
       "    </tr>\n",
       "    <tr>\n",
       "      <th>2</th>\n",
       "      <td>2</td>\n",
       "      <td>7</td>\n",
       "      <td>8</td>\n",
       "    </tr>\n",
       "    <tr>\n",
       "      <th>3</th>\n",
       "      <td>2</td>\n",
       "      <td>6</td>\n",
       "      <td>7</td>\n",
       "    </tr>\n",
       "    <tr>\n",
       "      <th>4</th>\n",
       "      <td>5</td>\n",
       "      <td>5</td>\n",
       "      <td>6</td>\n",
       "    </tr>\n",
       "    <tr>\n",
       "      <th>5</th>\n",
       "      <td>3</td>\n",
       "      <td>6</td>\n",
       "      <td>4</td>\n",
       "    </tr>\n",
       "    <tr>\n",
       "      <th>6</th>\n",
       "      <td>4</td>\n",
       "      <td>6</td>\n",
       "      <td>4</td>\n",
       "    </tr>\n",
       "    <tr>\n",
       "      <th>7</th>\n",
       "      <td>3</td>\n",
       "      <td>5</td>\n",
       "      <td>6</td>\n",
       "    </tr>\n",
       "    <tr>\n",
       "      <th>8</th>\n",
       "      <td>4</td>\n",
       "      <td>4</td>\n",
       "      <td>6</td>\n",
       "    </tr>\n",
       "    <tr>\n",
       "      <th>9</th>\n",
       "      <td>4</td>\n",
       "      <td>5</td>\n",
       "      <td>7</td>\n",
       "    </tr>\n",
       "  </tbody>\n",
       "</table></div>"
      ],
      "text/plain": [
       "   abc  bcd  cde\n",
       "0    2    6    5\n",
       "1    2    5    5\n",
       "2    2    7    8\n",
       "3    2    6    7\n",
       "4    5    5    6\n",
       "5    3    6    4\n",
       "6    4    6    4\n",
       "7    3    5    6\n",
       "8    4    4    6\n",
       "9    4    5    7"
      ]
     },
     "execution_count": 113,
     "metadata": {},
     "output_type": "execute_result"
    }
   ],
   "source": [
    "d4"
   ]
  },
  {
   "cell_type": "code",
   "execution_count": null,
   "id": "0a86e74e",
   "metadata": {},
   "outputs": [],
   "source": [
    "# loc syntax : loc[row name, col name]\n",
    "d4.loc[9,'cde']"
   ]
  },
  {
   "cell_type": "code",
   "execution_count": null,
   "id": "7617e822",
   "metadata": {},
   "outputs": [],
   "source": [
    "# retrieving data by slicing. n-1 is not applicable and here we are givig rows and columns names\n",
    "d4.loc[4:9,['abc','cde']]"
   ]
  },
  {
   "cell_type": "code",
   "execution_count": null,
   "id": "1da6823d",
   "metadata": {},
   "outputs": [],
   "source": [
    "# retrieving data based on row names\n",
    "d4.loc[[3,4,7],['abc','cde']]"
   ]
  },
  {
   "cell_type": "code",
   "execution_count": null,
   "id": "cdb72d5b",
   "metadata": {},
   "outputs": [],
   "source": [
    "d4"
   ]
  },
  {
   "cell_type": "markdown",
   "id": "f5784f65",
   "metadata": {},
   "source": [
    "# iloc function in Pandas\n",
    "* Data is retreived based on rows and columns indexes\n",
    "* Syntax: iloc[row index, col index]"
   ]
  },
  {
   "cell_type": "markdown",
   "id": "66e9e362",
   "metadata": {},
   "source": [
    "<img src = 'https://www.marsja.se/wp-content/uploads/2019/09/pandas_select_row_by_index_iloc.png'>"
   ]
  },
  {
   "cell_type": "code",
   "execution_count": null,
   "id": "3370cdd2",
   "metadata": {},
   "outputs": [],
   "source": [
    "d4.iloc[9,2] # [row index, column index]"
   ]
  },
  {
   "cell_type": "code",
   "execution_count": null,
   "id": "d708e795",
   "metadata": {},
   "outputs": [],
   "source": [
    "# retrieving data based on slicing\n",
    "d4.iloc[2:7,[0,2]]"
   ]
  },
  {
   "cell_type": "code",
   "execution_count": null,
   "id": "49d1ff4e",
   "metadata": {},
   "outputs": [],
   "source": [
    "# dataframe.column_name gives the data set details of that column\n",
    "d4.abc"
   ]
  },
  {
   "cell_type": "code",
   "execution_count": null,
   "id": "d32ebe83",
   "metadata": {},
   "outputs": [],
   "source": [
    "# when we give .values it will convert to array\n",
    "d4.abc.values"
   ]
  },
  {
   "cell_type": "code",
   "execution_count": null,
   "id": "f2459600",
   "metadata": {},
   "outputs": [],
   "source": [
    "# creating new column'sum'\n",
    "d4['sum'] = d4.abc.values + d4.cde.values + d4.bcd.values\n",
    "d4"
   ]
  },
  {
   "cell_type": "code",
   "execution_count": null,
   "id": "28efd920",
   "metadata": {},
   "outputs": [],
   "source": [
    "# Creating a datarame\n",
    "a = [['rk',102,15000],['rama',103,20000],['krishna',104,25000]]\n",
    "df1 = pd.DataFrame(a,columns=['name','id','salary'])\n",
    "df1"
   ]
  },
  {
   "cell_type": "code",
   "execution_count": null,
   "id": "34cbf409",
   "metadata": {},
   "outputs": [],
   "source": [
    "# To check whose salary is greater than or equal to 20000\n",
    "y = df1[df1.salary>=20000]\n",
    "y"
   ]
  },
  {
   "cell_type": "code",
   "execution_count": null,
   "id": "d88e897c",
   "metadata": {},
   "outputs": [],
   "source": [
    "# To check salary based on the required columns\n",
    "y[['id','salary']]"
   ]
  },
  {
   "cell_type": "code",
   "execution_count": null,
   "id": "fdd07da5",
   "metadata": {},
   "outputs": [],
   "source": [
    "# Adding new row to DataFrame using append() function\n",
    "# ignore_index is by default True, for adding data from particular mentioned index\n",
    "df1.append({'name':'pavan','id':105,'salary':30000},ignore_index = True)"
   ]
  },
  {
   "cell_type": "code",
   "execution_count": null,
   "id": "21c947bb",
   "metadata": {},
   "outputs": [],
   "source": [
    "# Adding one more row with Null value using np.nan\n",
    "df1 = df1.append({'name': np.nan,'id':106,'salary':30000},ignore_index = True)\n",
    "df1"
   ]
  },
  {
   "cell_type": "code",
   "execution_count": null,
   "id": "32e2119b",
   "metadata": {},
   "outputs": [],
   "source": [
    "# To find null values\n",
    "# If found shows as True, if not False\n",
    "df1.isnull()"
   ]
  },
  {
   "cell_type": "code",
   "execution_count": null,
   "id": "2ff60903",
   "metadata": {},
   "outputs": [],
   "source": [
    "# To find total no of null values in each column\n",
    "df1.isnull().sum()"
   ]
  },
  {
   "cell_type": "code",
   "execution_count": null,
   "id": "5eb81afa",
   "metadata": {},
   "outputs": [],
   "source": [
    "# To drop null values\n",
    "df1.dropna()"
   ]
  },
  {
   "cell_type": "markdown",
   "id": "c9f86907",
   "metadata": {},
   "source": [
    "* If there are many null values using statistical features like mean, median, mode etc we repalce these null values with best fit data.\n",
    "* Never try to remove null values and always try to replace it with best fit values\n",
    "* Each null value cant be replaced with different values, but all null values are replaced with same value"
   ]
  },
  {
   "cell_type": "code",
   "execution_count": null,
   "id": "5353e123",
   "metadata": {},
   "outputs": [],
   "source": [
    "# Still null values are there, because we didnt assign to variable df1\n",
    "df1"
   ]
  },
  {
   "cell_type": "code",
   "execution_count": null,
   "id": "2c0e1c55",
   "metadata": {},
   "outputs": [],
   "source": [
    "# using fillna() we can replace null value with some specific value \n",
    "df1.fillna(value = 'pavan')"
   ]
  },
  {
   "cell_type": "markdown",
   "id": "b15aad99",
   "metadata": {},
   "source": [
    "## GroupBy"
   ]
  },
  {
   "cell_type": "markdown",
   "id": "193c8567",
   "metadata": {},
   "source": [
    "<img src = 'https://i2.wp.com/datapandas.com/wp-content/uploads/2016/09/pandas-powerful-data-analysis-tools-group-by.jpg?fit=300%2C225&ssl=1'>"
   ]
  },
  {
   "cell_type": "code",
   "execution_count": null,
   "id": "fb3b3d2a",
   "metadata": {},
   "outputs": [],
   "source": [
    "# Dataframe to illustrate GroupBy\n",
    "df = pd.DataFrame({'Animal':['Falcon','Falcon','Parrot','Parrot'],'Max Speed': [380.,370.,24.,26.]})\n",
    "df"
   ]
  },
  {
   "cell_type": "code",
   "execution_count": null,
   "id": "fff1c5aa",
   "metadata": {},
   "outputs": [],
   "source": [
    "# Using groupby() function we can know average speed of Falcon and Parrot\n",
    "df.groupby(['Animal']).mean()"
   ]
  },
  {
   "cell_type": "code",
   "execution_count": null,
   "id": "1e2b138f",
   "metadata": {},
   "outputs": [],
   "source": [
    "# read_csv will read total file which is saved\n",
    "# In realtime we read csv files as shown below\n",
    "df_csv = pd.read_csv('data_csv')\n",
    "df_csv"
   ]
  },
  {
   "cell_type": "code",
   "execution_count": null,
   "id": "440b4d55",
   "metadata": {},
   "outputs": [],
   "source": [
    "# To read only columns data in DataFrame\n",
    "df_csv.columns"
   ]
  },
  {
   "cell_type": "code",
   "execution_count": null,
   "id": "be96d0d1",
   "metadata": {},
   "outputs": [],
   "source": [
    "# To check the data available in 'COUNTRY' column we use .values and will be shown in array format\n",
    "df_csv['COUNTRY'].values"
   ]
  },
  {
   "cell_type": "code",
   "execution_count": null,
   "id": "7f3c7593",
   "metadata": {},
   "outputs": [],
   "source": [
    "# Checking total null values in 'Country' column using .isnull and .sum()\n",
    "df_csv['COUNTRY'].isnull().sum()"
   ]
  },
  {
   "cell_type": "markdown",
   "id": "8c05e1e6",
   "metadata": {},
   "source": [
    "## iteritems()\n",
    "\n",
    "* iteritems() is used to loop the data column wise with in a DataFrame\n",
    "* Also if null values in any column can be found"
   ]
  },
  {
   "cell_type": "code",
   "execution_count": null,
   "id": "46e3cbbf",
   "metadata": {},
   "outputs": [],
   "source": [
    "import pandas as pd\n",
    "import numpy as np\n",
    "\n",
    "df = pd.DataFrame(np.random.randn(4,3),columns=['col1','col2','col3'])\n",
    "print(df)\n",
    "print('\\n')\n",
    "for key,value in df.iteritems():\n",
    "    print(key,value)\n",
    "    print('\\n')"
   ]
  },
  {
   "cell_type": "markdown",
   "id": "51558d08",
   "metadata": {},
   "source": [
    "## iterrows()\n",
    "\n",
    "* iterrows() is used to loop the data row wise with in a DataFrame\n",
    "* Also if null values in any column can be found\n",
    "* "
   ]
  },
  {
   "cell_type": "code",
   "execution_count": null,
   "id": "c078ab7f",
   "metadata": {},
   "outputs": [],
   "source": [
    "import pandas as pd\n",
    "import numpy as np\n",
    "\n",
    "df = pd.DataFrame(np.random.randn(4,3),columns=['col1','col2','col3'])\n",
    "print(df)\n",
    "print('\\n')\n",
    "for row in df.iterrows():\n",
    "    print(row)\n",
    "    print('\\n')"
   ]
  },
  {
   "cell_type": "code",
   "execution_count": null,
   "id": "11bd9cfc",
   "metadata": {},
   "outputs": [],
   "source": [
    "df"
   ]
  },
  {
   "cell_type": "code",
   "execution_count": null,
   "id": "4f33584d",
   "metadata": {},
   "outputs": [],
   "source": [
    "# Transpose - Rows will convert to columns and columns will convert to rows\n",
    "df.T"
   ]
  },
  {
   "cell_type": "markdown",
   "id": "52a19d37",
   "metadata": {},
   "source": [
    "## Get Dummies"
   ]
  },
  {
   "cell_type": "code",
   "execution_count": null,
   "id": "f6cb6b60",
   "metadata": {},
   "outputs": [],
   "source": [
    "# Taking some data\n",
    "import pandas as pd\n",
    "data = {'firstname':['Pavan','Krishna','Venkata','Guna','Sai'],\n",
    "        'lastname':['Kumar','Mallik','Vivaan','Saanvee','Josya'],\n",
    "       'adultkid':['Adult','Adult','Kid','Kid','Kid'],\n",
    "       'cityname':['Hyderabad','Bangalore','Hyderabad','Hyderabad','Bangalore']}\n",
    "\n",
    "df = pd.DataFrame(data, columns = ['firstname','lastname','adultkid','cityname'])\n",
    "print(df)"
   ]
  },
  {
   "cell_type": "markdown",
   "id": "b7e95a95",
   "metadata": {},
   "source": [
    "* In above data there are some repetitive values with in columns\n",
    "* In this case we can convert them to specific values using get_dummies, lable encoding or one hot encoding methods\n"
   ]
  },
  {
   "cell_type": "code",
   "execution_count": null,
   "id": "5a517ab0",
   "metadata": {},
   "outputs": [],
   "source": [
    "# using get_dummies repititive values as 0 and 1\n",
    "df1 = pd.get_dummies(df['adultkid'])\n",
    "df2 = pd.get_dummies(df['cityname'])\n",
    "print(df1)\n",
    "print(df2)"
   ]
  },
  {
   "cell_type": "code",
   "execution_count": null,
   "id": "ba1cf69f",
   "metadata": {},
   "outputs": [],
   "source": [
    "df"
   ]
  },
  {
   "cell_type": "code",
   "execution_count": null,
   "id": "ad8c6779",
   "metadata": {},
   "outputs": [],
   "source": [
    "# To add the get_dummies to the main DataFrame we use concat() function and give axis = 1 means adding data column wise\n",
    "frames = [df,df1,df2]\n",
    "\n",
    "result = pd.concat(frames,axis=1)\n",
    "result"
   ]
  },
  {
   "cell_type": "markdown",
   "id": "a801913b",
   "metadata": {},
   "source": [
    "## Concatination"
   ]
  },
  {
   "cell_type": "code",
   "execution_count": null,
   "id": "a346e040",
   "metadata": {},
   "outputs": [],
   "source": [
    "# Creating data for concatination illustration\n",
    "import pandas as pd\n",
    "\n",
    "india_weather =pd.DataFrame({\n",
    "    \"City\":[\"mumbai\",\"delhi\",\"bangalore\"],\n",
    "    \"temperature\": [32,45,30],\n",
    "    \"humidity\": [80,60,78]\n",
    "    \n",
    "})\n",
    "india_weather\n"
   ]
  },
  {
   "cell_type": "code",
   "execution_count": null,
   "id": "61521e9c",
   "metadata": {},
   "outputs": [],
   "source": [
    "us_weather =pd.DataFrame({\n",
    "    \"City\":[\"new york\",\"chicago\",\"orlando\"],\n",
    "    \"temperature\": [21,14,35],\n",
    "    \"humidity\": [68,65,75]\n",
    "    \n",
    "})\n",
    "us_weather"
   ]
  },
  {
   "cell_type": "code",
   "execution_count": null,
   "id": "4819a627",
   "metadata": {},
   "outputs": [],
   "source": [
    "# concatinating both india_weather and us_weather data using concat() function\n",
    "# both dataframe indexes are taken as it is i.e. 0,1,2 and 0,1,2\n",
    "df = pd.concat([india_weather,us_weather])\n",
    "df"
   ]
  },
  {
   "cell_type": "code",
   "execution_count": null,
   "id": "8e43ebdb",
   "metadata": {},
   "outputs": [],
   "source": [
    "# using ignore_index = True previous index are ignored and indexes are taken as one for entire DataFrame\n",
    "df = pd.concat([india_weather,us_weather],ignore_index = True)\n",
    "df"
   ]
  },
  {
   "cell_type": "code",
   "execution_count": null,
   "id": "13d33f0d",
   "metadata": {},
   "outputs": [],
   "source": [
    "# concatinating using keys, where data gets separated based on the values provided witn in keys\n",
    "df = pd.concat([india_weather,us_weather],keys=[\"india\",\"us\"])\n",
    "df"
   ]
  },
  {
   "cell_type": "markdown",
   "id": "39ecb9a8",
   "metadata": {},
   "source": [
    "## Correlation method - corr()"
   ]
  },
  {
   "cell_type": "markdown",
   "id": "fbb0980f",
   "metadata": {},
   "source": [
    "\n",
    "* Finding relationships\n",
    "* A great aspect of Pandas module is the corr() method.\n",
    "* The corr() method calculates the relationship between each column in your data set.\n"
   ]
  },
  {
   "cell_type": "code",
   "execution_count": null,
   "id": "2957bc36",
   "metadata": {},
   "outputs": [],
   "source": [
    "df"
   ]
  },
  {
   "cell_type": "code",
   "execution_count": null,
   "id": "72c83b37",
   "metadata": {},
   "outputs": [],
   "source": [
    "# if two columns have same data then we can remove one column\n",
    "# correlation using heatmap is important\n",
    "# diagnol element is always 1\n",
    "df.corr()"
   ]
  },
  {
   "cell_type": "code",
   "execution_count": null,
   "id": "6016db50",
   "metadata": {},
   "outputs": [],
   "source": []
  }
 ],
 "metadata": {
  "kernelspec": {
   "display_name": "Python 3",
   "language": "python",
   "name": "python3"
  },
  "language_info": {
   "codemirror_mode": {
    "name": "ipython",
    "version": 3
   },
   "file_extension": ".py",
   "mimetype": "text/x-python",
   "name": "python",
   "nbconvert_exporter": "python",
   "pygments_lexer": "ipython3",
   "version": "3.8.8"
  }
 },
 "nbformat": 4,
 "nbformat_minor": 5
}
